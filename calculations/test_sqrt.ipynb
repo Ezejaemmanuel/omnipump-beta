{
 "cells": [
  {
   "cell_type": "code",
   "execution_count": null,
   "metadata": {},
   "outputs": [
    {
     "ename": "",
     "evalue": "",
     "output_type": "error",
     "traceback": [
      "\u001b[1;31mRunning cells with 'Python 3.12.4' requires the ipykernel package.\n",
      "\u001b[1;31mRun the following command to install 'ipykernel' into the Python environment. \n",
      "\u001b[1;31mCommand: '/bin/python3.12 -m pip install ipykernel -U --user --force-reinstall'"
     ]
    }
   ],
   "source": [
    "import math\n",
    "\n",
    "\n",
    "def calculate_initial_sqrt_price(amount0, amount1, decimals0, decimals1):\n",
    "    if amount0 == 0 or amount1 == 0:\n",
    "        raise ValueError(\"Zero amount detected for either amount0 or amount1\")\n",
    "\n",
    "    # Calculate price\n",
    "    price = (amount1 * (10**decimals0)) // amount0\n",
    "    price = (price * (2**96)) // (10**decimals1)\n",
    "\n",
    "    # Calculate square root of price\n",
    "    sqrt_price_x96 = int(math.sqrt(price))\n",
    "\n",
    "    return sqrt_price_x96\n",
    "\n",
    "\n",
    "# Example usage\n",
    "token0_amount = 1000000  # 1 million\n",
    "token1_amount = 2000000  # 2 million\n",
    "token0_decimals = 18\n",
    "token1_decimals = 18\n",
    "\n",
    "result = calculate_initial_sqrt_price(\n",
    "    token0_amount, token1_amount, token0_decimals, token1_decimals\n",
    ")\n",
    "print(f\"Calculated sqrtPriceX96: {result}\")\n"
   ]
  }
 ],
 "metadata": {
  "kernelspec": {
   "display_name": "Python 3",
   "language": "python",
   "name": "python3"
  },
  "language_info": {
   "name": "python",
   "version": "3.12.4"
  }
 },
 "nbformat": 4,
 "nbformat_minor": 2
}
